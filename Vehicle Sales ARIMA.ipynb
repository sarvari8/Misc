{
 "cells": [
  {
   "cell_type": "code",
   "execution_count": 1,
   "id": "0f81f98e-4913-460b-94bd-a968284b75ce",
   "metadata": {},
   "outputs": [
    {
     "name": "stderr",
     "output_type": "stream",
     "text": [
      "/Users/sarvaripidaparty/opt/anaconda3/lib/python3.9/site-packages/statsmodels/tsa/base/tsa_model.py:471: ValueWarning: No frequency information was provided, so inferred frequency MS will be used.\n",
      "  self._init_dates(dates, freq)\n",
      "/Users/sarvaripidaparty/opt/anaconda3/lib/python3.9/site-packages/statsmodels/tsa/base/tsa_model.py:471: ValueWarning: No frequency information was provided, so inferred frequency MS will be used.\n",
      "  self._init_dates(dates, freq)\n",
      "/Users/sarvaripidaparty/opt/anaconda3/lib/python3.9/site-packages/statsmodels/tsa/base/tsa_model.py:471: ValueWarning: No frequency information was provided, so inferred frequency MS will be used.\n",
      "  self._init_dates(dates, freq)\n"
     ]
    },
    {
     "data": {
      "text/plain": [
       "(1453926.897317345, 1460141.7072840089)"
      ]
     },
     "execution_count": 1,
     "metadata": {},
     "output_type": "execute_result"
    }
   ],
   "source": [
    "import pandas as pd\n",
    "from statsmodels.tsa.arima.model import ARIMA\n",
    "\n",
    "data1 = pd.read_csv('TOTALNSA.csv')\n",
    "\n",
    "# Convert 'DATE' column to datetime format for proper time series analysis\n",
    "data1['DATE'] = pd.to_datetime(data1['DATE'])\n",
    "data1.set_index('DATE', inplace=True)\n",
    "\n",
    "\n",
    "# Fit ARIMA model using the (1, 1, 1) order, a common starting point\n",
    "model_arima = ARIMA(data1['TOTALNSA'], order=(1, 1, 1))\n",
    "fit_arima = model_arima.fit()\n",
    "\n",
    "# Forecasting for 13 months from December 2019 to December 2020\n",
    "forecast_arima = fit_arima.get_forecast(steps=13)\n",
    "forecast_mean_arima = forecast_arima.predicted_mean\n",
    "\n",
    "# Extract predictions for December 2019 and May 2020\n",
    "dec_2019_prediction_arima = forecast_mean_arima['2019-12-01']\n",
    "may_2020_prediction_arima = forecast_mean_arima['2020-05-01']\n",
    "\n",
    "dec_2019_prediction_arima * 1000, may_2020_prediction_arima * 1000"
   ]
  },
  {
   "cell_type": "code",
   "execution_count": 2,
   "id": "6b2e1921-e450-48ac-af67-217d3ca44cdb",
   "metadata": {},
   "outputs": [
    {
     "data": {
      "text/plain": [
       "17519221.89159497"
      ]
     },
     "execution_count": 2,
     "metadata": {},
     "output_type": "execute_result"
    }
   ],
   "source": [
    "# Forecasting for the entire year of 2020 using the ARIMA model\n",
    "forecast_2020_arima = forecast_arima.predicted_mean['2020-01-01':'2020-12-01']\n",
    "\n",
    "# Calculate the total vehicle sales for 2020 using ARIMA predictions\n",
    "total_sales_2020_arima = forecast_2020_arima.sum()\n",
    "sales_2020 = total_sales_2020_arima*1000\n",
    "sales_2020"
   ]
  },
  {
   "cell_type": "code",
   "execution_count": 3,
   "id": "404d82df-1f8e-4410-aff4-3c45bc6cf678",
   "metadata": {},
   "outputs": [
    {
     "data": {
      "text/plain": [
       "175192.21891594966"
      ]
     },
     "execution_count": 3,
     "metadata": {},
     "output_type": "execute_result"
    }
   ],
   "source": [
    "# Calculate ACME Trucks' expected sales for 2020 based on 1% market share\n",
    "acme_trucks_sales_2020 = 0.01 * total_sales_2020_arima\n",
    "acme_2020 = acme_trucks_sales_2020*1000\n",
    "acme_2020"
   ]
  },
  {
   "cell_type": "code",
   "execution_count": 4,
   "id": "a5697b95-201b-4908-b8ae-c7340bb2965f",
   "metadata": {},
   "outputs": [
    {
     "name": "stderr",
     "output_type": "stream",
     "text": [
      "/var/folders/k1/wt5v61sd6jd7_9m6k1cwqx8c0000gn/T/ipykernel_17067/4143594880.py:2: FutureWarning: Indexing a DataFrame with a datetimelike index using a single string to slice the rows, like `frame[string]`, is deprecated and will be removed in a future version. Use `frame.loc[string]` instead.\n",
      "  sales_2019 = data1['2019']\n"
     ]
    },
    {
     "data": {
      "text/plain": [
       "173828.51897317346"
      ]
     },
     "execution_count": 4,
     "metadata": {},
     "output_type": "execute_result"
    }
   ],
   "source": [
    "# Filter the data for the year 2019\n",
    "sales_2019 = data1['2019']\n",
    "\n",
    "# Calculate the total vehicle sales for 2019. We add the Dec 2019 prediction from the model as we have data till Nov 2019.\n",
    "total_sales_2019 = (sales_2019['TOTALNSA'].sum())*1000 + dec_2019_prediction_arima*1000\n",
    "acme_2019 = 0.01*total_sales_2019\n",
    "acme_2019"
   ]
  },
  {
   "cell_type": "code",
   "execution_count": 5,
   "id": "de59bc40-a20b-4d6f-bd3c-687c1dd706b4",
   "metadata": {},
   "outputs": [
    {
     "data": {
      "text/plain": [
       "0.7845087508262452"
      ]
     },
     "execution_count": 5,
     "metadata": {},
     "output_type": "execute_result"
    }
   ],
   "source": [
    "sales_growth = 100*(acme_2020 - acme_2019)/acme_2019\n",
    "sales_growth"
   ]
  },
  {
   "cell_type": "code",
   "execution_count": null,
   "id": "4aa4bbd4-dd7d-4d59-a770-11a7d980183d",
   "metadata": {},
   "outputs": [],
   "source": []
  }
 ],
 "metadata": {
  "kernelspec": {
   "display_name": "Python 3 (ipykernel)",
   "language": "python",
   "name": "python3"
  },
  "language_info": {
   "codemirror_mode": {
    "name": "ipython",
    "version": 3
   },
   "file_extension": ".py",
   "mimetype": "text/x-python",
   "name": "python",
   "nbconvert_exporter": "python",
   "pygments_lexer": "ipython3",
   "version": "3.9.13"
  }
 },
 "nbformat": 4,
 "nbformat_minor": 5
}
